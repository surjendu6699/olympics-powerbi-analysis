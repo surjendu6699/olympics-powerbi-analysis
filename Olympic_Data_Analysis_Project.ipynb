{
 "cells": [
  {
   "cell_type": "markdown",
   "id": "804c4622-b319-496f-b1b6-f0ca0c38a0b1",
   "metadata": {},
   "source": [
    "# Olympic Data Analysis Project\n",
    "\n",
    "# Objective:\n",
    "\n",
    "Analyze Olympic data to extract insights about athletes’ performance, participation trends, and anomalies in data.\n",
    "\n",
    "Key Steps:\n",
    "\n",
    "# Data Cleaning:\n",
    "\n",
    "Removed duplicates and irrelevant entries.\n",
    "\n",
    "Filled missing values intelligently (mean/median/mode or domain knowledge).\n",
    "\n",
    "Checked for suspicious or inconsistent data.\n",
    "\n",
    "# Outlier Analysis:\n",
    "\n",
    "Detected outliers using statistical methods (like boxplots or IQR).\n",
    "\n",
    "Highlighted outliers instead of removing them to maintain all real-world extremes.\n",
    "\n",
    "Observed patterns in outliers (e.g., unusually young or old athletes, extreme medal counts, or rare sports participation).\n",
    "\n",
    "# Data Visualization:\n",
    "\n",
    "Visualized trends in athlete participation over the years.\n",
    "\n",
    "Compared medal counts across countries, sports, and years.\n",
    "\n",
    "Highlighted outliers on visualizations to draw attention to interesting anomalies.\n",
    "\n",
    "# Insights & Observations:\n",
    "\n",
    "Example: Countries with consistently high medal counts.\n",
    "\n",
    "Example: Sports with unusually high participation or extreme performances.\n",
    "\n",
    "Outliers reveal rare or exceptional cases worth exploring further.\n",
    "\n",
    "# Tools Used:\n",
    "\n",
    "Python (Pandas, Matplotlib, Seaborn)\n",
    "\n",
    "Jupyter Notebook"
   ]
  },
  {
   "cell_type": "code",
   "execution_count": 1,
   "id": "109932e8-dd5b-4ae7-be9f-97028bbe5d4f",
   "metadata": {},
   "outputs": [],
   "source": [
    "import numpy as np\n",
    "import pandas as pd"
   ]
  },
  {
   "cell_type": "markdown",
   "id": "f06e164c-6c67-429b-8e1b-1a17d9dd5ffe",
   "metadata": {},
   "source": [
    "# taking csv data file into"
   ]
  },
  {
   "cell_type": "code",
   "execution_count": 2,
   "id": "06d74bf9-5fe6-46fa-8b66-283b2d88f602",
   "metadata": {},
   "outputs": [],
   "source": [
    "df=pd.read_csv(\"athlete_events.csv\")"
   ]
  },
  {
   "cell_type": "code",
   "execution_count": 3,
   "id": "8cc0f8cc-cb10-4f82-9ce0-3a9a16f6b363",
   "metadata": {},
   "outputs": [
    {
     "data": {
      "text/html": [
       "<div>\n",
       "<style scoped>\n",
       "    .dataframe tbody tr th:only-of-type {\n",
       "        vertical-align: middle;\n",
       "    }\n",
       "\n",
       "    .dataframe tbody tr th {\n",
       "        vertical-align: top;\n",
       "    }\n",
       "\n",
       "    .dataframe thead th {\n",
       "        text-align: right;\n",
       "    }\n",
       "</style>\n",
       "<table border=\"1\" class=\"dataframe\">\n",
       "  <thead>\n",
       "    <tr style=\"text-align: right;\">\n",
       "      <th></th>\n",
       "      <th>ID</th>\n",
       "      <th>Name</th>\n",
       "      <th>Sex</th>\n",
       "      <th>Age</th>\n",
       "      <th>Height</th>\n",
       "      <th>Weight</th>\n",
       "      <th>Team</th>\n",
       "      <th>NOC</th>\n",
       "      <th>Games</th>\n",
       "      <th>Year</th>\n",
       "      <th>Season</th>\n",
       "      <th>City</th>\n",
       "      <th>Sport</th>\n",
       "      <th>Event</th>\n",
       "      <th>Medal</th>\n",
       "    </tr>\n",
       "  </thead>\n",
       "  <tbody>\n",
       "    <tr>\n",
       "      <th>0</th>\n",
       "      <td>1</td>\n",
       "      <td>A Dijiang</td>\n",
       "      <td>M</td>\n",
       "      <td>24.0</td>\n",
       "      <td>180.0</td>\n",
       "      <td>80.0</td>\n",
       "      <td>China</td>\n",
       "      <td>CHN</td>\n",
       "      <td>1992 Summer</td>\n",
       "      <td>1992</td>\n",
       "      <td>Summer</td>\n",
       "      <td>Barcelona</td>\n",
       "      <td>Basketball</td>\n",
       "      <td>Basketball Men's Basketball</td>\n",
       "      <td>NaN</td>\n",
       "    </tr>\n",
       "    <tr>\n",
       "      <th>1</th>\n",
       "      <td>2</td>\n",
       "      <td>A Lamusi</td>\n",
       "      <td>M</td>\n",
       "      <td>23.0</td>\n",
       "      <td>170.0</td>\n",
       "      <td>60.0</td>\n",
       "      <td>China</td>\n",
       "      <td>CHN</td>\n",
       "      <td>2012 Summer</td>\n",
       "      <td>2012</td>\n",
       "      <td>Summer</td>\n",
       "      <td>London</td>\n",
       "      <td>Judo</td>\n",
       "      <td>Judo Men's Extra-Lightweight</td>\n",
       "      <td>NaN</td>\n",
       "    </tr>\n",
       "    <tr>\n",
       "      <th>2</th>\n",
       "      <td>3</td>\n",
       "      <td>Gunnar Nielsen Aaby</td>\n",
       "      <td>M</td>\n",
       "      <td>24.0</td>\n",
       "      <td>NaN</td>\n",
       "      <td>NaN</td>\n",
       "      <td>Denmark</td>\n",
       "      <td>DEN</td>\n",
       "      <td>1920 Summer</td>\n",
       "      <td>1920</td>\n",
       "      <td>Summer</td>\n",
       "      <td>Antwerpen</td>\n",
       "      <td>Football</td>\n",
       "      <td>Football Men's Football</td>\n",
       "      <td>NaN</td>\n",
       "    </tr>\n",
       "    <tr>\n",
       "      <th>3</th>\n",
       "      <td>4</td>\n",
       "      <td>Edgar Lindenau Aabye</td>\n",
       "      <td>M</td>\n",
       "      <td>34.0</td>\n",
       "      <td>NaN</td>\n",
       "      <td>NaN</td>\n",
       "      <td>Denmark/Sweden</td>\n",
       "      <td>DEN</td>\n",
       "      <td>1900 Summer</td>\n",
       "      <td>1900</td>\n",
       "      <td>Summer</td>\n",
       "      <td>Paris</td>\n",
       "      <td>Tug-Of-War</td>\n",
       "      <td>Tug-Of-War Men's Tug-Of-War</td>\n",
       "      <td>Gold</td>\n",
       "    </tr>\n",
       "    <tr>\n",
       "      <th>4</th>\n",
       "      <td>5</td>\n",
       "      <td>Christine Jacoba Aaftink</td>\n",
       "      <td>F</td>\n",
       "      <td>21.0</td>\n",
       "      <td>185.0</td>\n",
       "      <td>82.0</td>\n",
       "      <td>Netherlands</td>\n",
       "      <td>NED</td>\n",
       "      <td>1988 Winter</td>\n",
       "      <td>1988</td>\n",
       "      <td>Winter</td>\n",
       "      <td>Calgary</td>\n",
       "      <td>Speed Skating</td>\n",
       "      <td>Speed Skating Women's 500 metres</td>\n",
       "      <td>NaN</td>\n",
       "    </tr>\n",
       "    <tr>\n",
       "      <th>...</th>\n",
       "      <td>...</td>\n",
       "      <td>...</td>\n",
       "      <td>...</td>\n",
       "      <td>...</td>\n",
       "      <td>...</td>\n",
       "      <td>...</td>\n",
       "      <td>...</td>\n",
       "      <td>...</td>\n",
       "      <td>...</td>\n",
       "      <td>...</td>\n",
       "      <td>...</td>\n",
       "      <td>...</td>\n",
       "      <td>...</td>\n",
       "      <td>...</td>\n",
       "      <td>...</td>\n",
       "    </tr>\n",
       "    <tr>\n",
       "      <th>271111</th>\n",
       "      <td>135569</td>\n",
       "      <td>Andrzej ya</td>\n",
       "      <td>M</td>\n",
       "      <td>29.0</td>\n",
       "      <td>179.0</td>\n",
       "      <td>89.0</td>\n",
       "      <td>Poland-1</td>\n",
       "      <td>POL</td>\n",
       "      <td>1976 Winter</td>\n",
       "      <td>1976</td>\n",
       "      <td>Winter</td>\n",
       "      <td>Innsbruck</td>\n",
       "      <td>Luge</td>\n",
       "      <td>Luge Mixed (Men)'s Doubles</td>\n",
       "      <td>NaN</td>\n",
       "    </tr>\n",
       "    <tr>\n",
       "      <th>271112</th>\n",
       "      <td>135570</td>\n",
       "      <td>Piotr ya</td>\n",
       "      <td>M</td>\n",
       "      <td>27.0</td>\n",
       "      <td>176.0</td>\n",
       "      <td>59.0</td>\n",
       "      <td>Poland</td>\n",
       "      <td>POL</td>\n",
       "      <td>2014 Winter</td>\n",
       "      <td>2014</td>\n",
       "      <td>Winter</td>\n",
       "      <td>Sochi</td>\n",
       "      <td>Ski Jumping</td>\n",
       "      <td>Ski Jumping Men's Large Hill, Individual</td>\n",
       "      <td>NaN</td>\n",
       "    </tr>\n",
       "    <tr>\n",
       "      <th>271113</th>\n",
       "      <td>135570</td>\n",
       "      <td>Piotr ya</td>\n",
       "      <td>M</td>\n",
       "      <td>27.0</td>\n",
       "      <td>176.0</td>\n",
       "      <td>59.0</td>\n",
       "      <td>Poland</td>\n",
       "      <td>POL</td>\n",
       "      <td>2014 Winter</td>\n",
       "      <td>2014</td>\n",
       "      <td>Winter</td>\n",
       "      <td>Sochi</td>\n",
       "      <td>Ski Jumping</td>\n",
       "      <td>Ski Jumping Men's Large Hill, Team</td>\n",
       "      <td>NaN</td>\n",
       "    </tr>\n",
       "    <tr>\n",
       "      <th>271114</th>\n",
       "      <td>135571</td>\n",
       "      <td>Tomasz Ireneusz ya</td>\n",
       "      <td>M</td>\n",
       "      <td>30.0</td>\n",
       "      <td>185.0</td>\n",
       "      <td>96.0</td>\n",
       "      <td>Poland</td>\n",
       "      <td>POL</td>\n",
       "      <td>1998 Winter</td>\n",
       "      <td>1998</td>\n",
       "      <td>Winter</td>\n",
       "      <td>Nagano</td>\n",
       "      <td>Bobsleigh</td>\n",
       "      <td>Bobsleigh Men's Four</td>\n",
       "      <td>NaN</td>\n",
       "    </tr>\n",
       "    <tr>\n",
       "      <th>271115</th>\n",
       "      <td>135571</td>\n",
       "      <td>Tomasz Ireneusz ya</td>\n",
       "      <td>M</td>\n",
       "      <td>34.0</td>\n",
       "      <td>185.0</td>\n",
       "      <td>96.0</td>\n",
       "      <td>Poland</td>\n",
       "      <td>POL</td>\n",
       "      <td>2002 Winter</td>\n",
       "      <td>2002</td>\n",
       "      <td>Winter</td>\n",
       "      <td>Salt Lake City</td>\n",
       "      <td>Bobsleigh</td>\n",
       "      <td>Bobsleigh Men's Four</td>\n",
       "      <td>NaN</td>\n",
       "    </tr>\n",
       "  </tbody>\n",
       "</table>\n",
       "<p>271116 rows × 15 columns</p>\n",
       "</div>"
      ],
      "text/plain": [
       "            ID                      Name Sex   Age  Height  Weight  \\\n",
       "0            1                 A Dijiang   M  24.0   180.0    80.0   \n",
       "1            2                  A Lamusi   M  23.0   170.0    60.0   \n",
       "2            3       Gunnar Nielsen Aaby   M  24.0     NaN     NaN   \n",
       "3            4      Edgar Lindenau Aabye   M  34.0     NaN     NaN   \n",
       "4            5  Christine Jacoba Aaftink   F  21.0   185.0    82.0   \n",
       "...        ...                       ...  ..   ...     ...     ...   \n",
       "271111  135569                Andrzej ya   M  29.0   179.0    89.0   \n",
       "271112  135570                  Piotr ya   M  27.0   176.0    59.0   \n",
       "271113  135570                  Piotr ya   M  27.0   176.0    59.0   \n",
       "271114  135571        Tomasz Ireneusz ya   M  30.0   185.0    96.0   \n",
       "271115  135571        Tomasz Ireneusz ya   M  34.0   185.0    96.0   \n",
       "\n",
       "                  Team  NOC        Games  Year  Season            City  \\\n",
       "0                China  CHN  1992 Summer  1992  Summer       Barcelona   \n",
       "1                China  CHN  2012 Summer  2012  Summer          London   \n",
       "2              Denmark  DEN  1920 Summer  1920  Summer       Antwerpen   \n",
       "3       Denmark/Sweden  DEN  1900 Summer  1900  Summer           Paris   \n",
       "4          Netherlands  NED  1988 Winter  1988  Winter         Calgary   \n",
       "...                ...  ...          ...   ...     ...             ...   \n",
       "271111        Poland-1  POL  1976 Winter  1976  Winter       Innsbruck   \n",
       "271112          Poland  POL  2014 Winter  2014  Winter           Sochi   \n",
       "271113          Poland  POL  2014 Winter  2014  Winter           Sochi   \n",
       "271114          Poland  POL  1998 Winter  1998  Winter          Nagano   \n",
       "271115          Poland  POL  2002 Winter  2002  Winter  Salt Lake City   \n",
       "\n",
       "                Sport                                     Event Medal  \n",
       "0          Basketball               Basketball Men's Basketball   NaN  \n",
       "1                Judo              Judo Men's Extra-Lightweight   NaN  \n",
       "2            Football                   Football Men's Football   NaN  \n",
       "3          Tug-Of-War               Tug-Of-War Men's Tug-Of-War  Gold  \n",
       "4       Speed Skating          Speed Skating Women's 500 metres   NaN  \n",
       "...               ...                                       ...   ...  \n",
       "271111           Luge                Luge Mixed (Men)'s Doubles   NaN  \n",
       "271112    Ski Jumping  Ski Jumping Men's Large Hill, Individual   NaN  \n",
       "271113    Ski Jumping        Ski Jumping Men's Large Hill, Team   NaN  \n",
       "271114      Bobsleigh                      Bobsleigh Men's Four   NaN  \n",
       "271115      Bobsleigh                      Bobsleigh Men's Four   NaN  \n",
       "\n",
       "[271116 rows x 15 columns]"
      ]
     },
     "execution_count": 3,
     "metadata": {},
     "output_type": "execute_result"
    }
   ],
   "source": [
    "df"
   ]
  },
  {
   "cell_type": "markdown",
   "id": "a854cf40-02ee-4c5f-a88f-0622f930508d",
   "metadata": {},
   "source": [
    "# Data Info"
   ]
  },
  {
   "cell_type": "code",
   "execution_count": 4,
   "id": "97f7017b-6090-4731-b34a-295bfa5517a9",
   "metadata": {},
   "outputs": [],
   "source": [
    "# before cleaning the data we need to gather infromation about data here we going to gather information about data"
   ]
  },
  {
   "cell_type": "code",
   "execution_count": 5,
   "id": "f94c4799-c254-4b17-910e-629517f27792",
   "metadata": {},
   "outputs": [
    {
     "name": "stdout",
     "output_type": "stream",
     "text": [
      "<class 'pandas.core.frame.DataFrame'>\n",
      "RangeIndex: 271116 entries, 0 to 271115\n",
      "Data columns (total 15 columns):\n",
      " #   Column  Non-Null Count   Dtype  \n",
      "---  ------  --------------   -----  \n",
      " 0   ID      271116 non-null  int64  \n",
      " 1   Name    271116 non-null  object \n",
      " 2   Sex     271116 non-null  object \n",
      " 3   Age     261642 non-null  float64\n",
      " 4   Height  210945 non-null  float64\n",
      " 5   Weight  208241 non-null  float64\n",
      " 6   Team    271116 non-null  object \n",
      " 7   NOC     271116 non-null  object \n",
      " 8   Games   271116 non-null  object \n",
      " 9   Year    271116 non-null  int64  \n",
      " 10  Season  271116 non-null  object \n",
      " 11  City    271116 non-null  object \n",
      " 12  Sport   271116 non-null  object \n",
      " 13  Event   271116 non-null  object \n",
      " 14  Medal   39783 non-null   object \n",
      "dtypes: float64(3), int64(2), object(10)\n",
      "memory usage: 31.0+ MB\n"
     ]
    }
   ],
   "source": [
    "df.info()"
   ]
  },
  {
   "cell_type": "markdown",
   "id": "940dd654-6337-4df4-ad0b-acf0dbfc4d4c",
   "metadata": {},
   "source": [
    "# data cleaning"
   ]
  },
  {
   "cell_type": "markdown",
   "id": "b45986f3-e182-4310-95b9-e469ef0bd1f1",
   "metadata": {},
   "source": [
    "# 1. check the null value and remove them for data set "
   ]
  },
  {
   "cell_type": "code",
   "execution_count": 6,
   "id": "71266a82-aaac-49ed-bfa7-92d5d7795751",
   "metadata": {},
   "outputs": [
    {
     "data": {
      "text/plain": [
       "ID             0\n",
       "Name           0\n",
       "Sex            0\n",
       "Age         9474\n",
       "Height     60171\n",
       "Weight     62875\n",
       "Team           0\n",
       "NOC            0\n",
       "Games          0\n",
       "Year           0\n",
       "Season         0\n",
       "City           0\n",
       "Sport          0\n",
       "Event          0\n",
       "Medal     231333\n",
       "dtype: int64"
      ]
     },
     "execution_count": 6,
     "metadata": {},
     "output_type": "execute_result"
    }
   ],
   "source": [
    "df.isnull().sum()"
   ]
  },
  {
   "cell_type": "code",
   "execution_count": 7,
   "id": "9e688f58-f5bf-4652-befd-03abc2c63c06",
   "metadata": {},
   "outputs": [],
   "source": [
    "# as we see the Age,Height,Weight,Medal has null values we know that Age,Height,Weight are numeber but medal is not a number it is an object "
   ]
  },
  {
   "cell_type": "code",
   "execution_count": 8,
   "id": "75747efc-5b28-444d-83d5-9b7e0d99f84c",
   "metadata": {},
   "outputs": [],
   "source": [
    "x=df['Age'].mean()\n",
    "df.fillna({\"Age\":x},inplace=True)"
   ]
  },
  {
   "cell_type": "code",
   "execution_count": 9,
   "id": "1c35016d-7916-4c41-8404-b5e361df922d",
   "metadata": {},
   "outputs": [],
   "source": [
    "h=df['Height'].mean()\n",
    "df.fillna({\"Height\":h},inplace=True)"
   ]
  },
  {
   "cell_type": "code",
   "execution_count": 10,
   "id": "68fc1cce-59b7-4567-b29d-c8b3584927ab",
   "metadata": {},
   "outputs": [],
   "source": [
    "w=df['Weight'].mean()\n",
    "df.fillna({\"Weight\":h},inplace=True)"
   ]
  },
  {
   "cell_type": "code",
   "execution_count": 11,
   "id": "af61365d-d19d-447d-a6e1-00e858461081",
   "metadata": {},
   "outputs": [],
   "source": [
    "# as for the Medal columne most of the  athlete dont win medalso we fill them in no medal and change them into category "
   ]
  },
  {
   "cell_type": "code",
   "execution_count": 12,
   "id": "cc2729bd-e1ed-47e6-b799-137d4d3eaa60",
   "metadata": {},
   "outputs": [],
   "source": [
    "df['Medal']=df['Medal'].fillna(\"no medals\")"
   ]
  },
  {
   "cell_type": "code",
   "execution_count": 13,
   "id": "7c2526da-f9eb-4774-bf5e-c6880ad2e92a",
   "metadata": {},
   "outputs": [],
   "source": [
    "df['Medal']=df['Medal'].astype(\"category\")"
   ]
  },
  {
   "cell_type": "code",
   "execution_count": 14,
   "id": "32922e6c-809c-4a72-b317-bf653d13c809",
   "metadata": {},
   "outputs": [
    {
     "name": "stdout",
     "output_type": "stream",
     "text": [
      "<class 'pandas.core.frame.DataFrame'>\n",
      "RangeIndex: 271116 entries, 0 to 271115\n",
      "Data columns (total 15 columns):\n",
      " #   Column  Non-Null Count   Dtype   \n",
      "---  ------  --------------   -----   \n",
      " 0   ID      271116 non-null  int64   \n",
      " 1   Name    271116 non-null  object  \n",
      " 2   Sex     271116 non-null  object  \n",
      " 3   Age     271116 non-null  float64 \n",
      " 4   Height  271116 non-null  float64 \n",
      " 5   Weight  271116 non-null  float64 \n",
      " 6   Team    271116 non-null  object  \n",
      " 7   NOC     271116 non-null  object  \n",
      " 8   Games   271116 non-null  object  \n",
      " 9   Year    271116 non-null  int64   \n",
      " 10  Season  271116 non-null  object  \n",
      " 11  City    271116 non-null  object  \n",
      " 12  Sport   271116 non-null  object  \n",
      " 13  Event   271116 non-null  object  \n",
      " 14  Medal   271116 non-null  category\n",
      "dtypes: category(1), float64(3), int64(2), object(9)\n",
      "memory usage: 29.2+ MB\n"
     ]
    }
   ],
   "source": [
    "df.info()"
   ]
  },
  {
   "cell_type": "code",
   "execution_count": 15,
   "id": "c67b6c1d-d84c-4c9e-a0a2-3e918e48b7b3",
   "metadata": {},
   "outputs": [
    {
     "data": {
      "text/html": [
       "<div>\n",
       "<style scoped>\n",
       "    .dataframe tbody tr th:only-of-type {\n",
       "        vertical-align: middle;\n",
       "    }\n",
       "\n",
       "    .dataframe tbody tr th {\n",
       "        vertical-align: top;\n",
       "    }\n",
       "\n",
       "    .dataframe thead th {\n",
       "        text-align: right;\n",
       "    }\n",
       "</style>\n",
       "<table border=\"1\" class=\"dataframe\">\n",
       "  <thead>\n",
       "    <tr style=\"text-align: right;\">\n",
       "      <th></th>\n",
       "      <th>ID</th>\n",
       "      <th>Name</th>\n",
       "      <th>Sex</th>\n",
       "      <th>Age</th>\n",
       "      <th>Height</th>\n",
       "      <th>Weight</th>\n",
       "      <th>Team</th>\n",
       "      <th>NOC</th>\n",
       "      <th>Games</th>\n",
       "      <th>Year</th>\n",
       "      <th>Season</th>\n",
       "      <th>City</th>\n",
       "      <th>Sport</th>\n",
       "      <th>Event</th>\n",
       "      <th>Medal</th>\n",
       "    </tr>\n",
       "  </thead>\n",
       "  <tbody>\n",
       "    <tr>\n",
       "      <th>0</th>\n",
       "      <td>1</td>\n",
       "      <td>A Dijiang</td>\n",
       "      <td>M</td>\n",
       "      <td>24.0</td>\n",
       "      <td>180.00000</td>\n",
       "      <td>80.00000</td>\n",
       "      <td>China</td>\n",
       "      <td>CHN</td>\n",
       "      <td>1992 Summer</td>\n",
       "      <td>1992</td>\n",
       "      <td>Summer</td>\n",
       "      <td>Barcelona</td>\n",
       "      <td>Basketball</td>\n",
       "      <td>Basketball Men's Basketball</td>\n",
       "      <td>no medals</td>\n",
       "    </tr>\n",
       "    <tr>\n",
       "      <th>1</th>\n",
       "      <td>2</td>\n",
       "      <td>A Lamusi</td>\n",
       "      <td>M</td>\n",
       "      <td>23.0</td>\n",
       "      <td>170.00000</td>\n",
       "      <td>60.00000</td>\n",
       "      <td>China</td>\n",
       "      <td>CHN</td>\n",
       "      <td>2012 Summer</td>\n",
       "      <td>2012</td>\n",
       "      <td>Summer</td>\n",
       "      <td>London</td>\n",
       "      <td>Judo</td>\n",
       "      <td>Judo Men's Extra-Lightweight</td>\n",
       "      <td>no medals</td>\n",
       "    </tr>\n",
       "    <tr>\n",
       "      <th>2</th>\n",
       "      <td>3</td>\n",
       "      <td>Gunnar Nielsen Aaby</td>\n",
       "      <td>M</td>\n",
       "      <td>24.0</td>\n",
       "      <td>175.33897</td>\n",
       "      <td>175.33897</td>\n",
       "      <td>Denmark</td>\n",
       "      <td>DEN</td>\n",
       "      <td>1920 Summer</td>\n",
       "      <td>1920</td>\n",
       "      <td>Summer</td>\n",
       "      <td>Antwerpen</td>\n",
       "      <td>Football</td>\n",
       "      <td>Football Men's Football</td>\n",
       "      <td>no medals</td>\n",
       "    </tr>\n",
       "    <tr>\n",
       "      <th>3</th>\n",
       "      <td>4</td>\n",
       "      <td>Edgar Lindenau Aabye</td>\n",
       "      <td>M</td>\n",
       "      <td>34.0</td>\n",
       "      <td>175.33897</td>\n",
       "      <td>175.33897</td>\n",
       "      <td>Denmark/Sweden</td>\n",
       "      <td>DEN</td>\n",
       "      <td>1900 Summer</td>\n",
       "      <td>1900</td>\n",
       "      <td>Summer</td>\n",
       "      <td>Paris</td>\n",
       "      <td>Tug-Of-War</td>\n",
       "      <td>Tug-Of-War Men's Tug-Of-War</td>\n",
       "      <td>Gold</td>\n",
       "    </tr>\n",
       "    <tr>\n",
       "      <th>4</th>\n",
       "      <td>5</td>\n",
       "      <td>Christine Jacoba Aaftink</td>\n",
       "      <td>F</td>\n",
       "      <td>21.0</td>\n",
       "      <td>185.00000</td>\n",
       "      <td>82.00000</td>\n",
       "      <td>Netherlands</td>\n",
       "      <td>NED</td>\n",
       "      <td>1988 Winter</td>\n",
       "      <td>1988</td>\n",
       "      <td>Winter</td>\n",
       "      <td>Calgary</td>\n",
       "      <td>Speed Skating</td>\n",
       "      <td>Speed Skating Women's 500 metres</td>\n",
       "      <td>no medals</td>\n",
       "    </tr>\n",
       "  </tbody>\n",
       "</table>\n",
       "</div>"
      ],
      "text/plain": [
       "   ID                      Name Sex   Age     Height     Weight  \\\n",
       "0   1                 A Dijiang   M  24.0  180.00000   80.00000   \n",
       "1   2                  A Lamusi   M  23.0  170.00000   60.00000   \n",
       "2   3       Gunnar Nielsen Aaby   M  24.0  175.33897  175.33897   \n",
       "3   4      Edgar Lindenau Aabye   M  34.0  175.33897  175.33897   \n",
       "4   5  Christine Jacoba Aaftink   F  21.0  185.00000   82.00000   \n",
       "\n",
       "             Team  NOC        Games  Year  Season       City          Sport  \\\n",
       "0           China  CHN  1992 Summer  1992  Summer  Barcelona     Basketball   \n",
       "1           China  CHN  2012 Summer  2012  Summer     London           Judo   \n",
       "2         Denmark  DEN  1920 Summer  1920  Summer  Antwerpen       Football   \n",
       "3  Denmark/Sweden  DEN  1900 Summer  1900  Summer      Paris     Tug-Of-War   \n",
       "4     Netherlands  NED  1988 Winter  1988  Winter    Calgary  Speed Skating   \n",
       "\n",
       "                              Event      Medal  \n",
       "0       Basketball Men's Basketball  no medals  \n",
       "1      Judo Men's Extra-Lightweight  no medals  \n",
       "2           Football Men's Football  no medals  \n",
       "3       Tug-Of-War Men's Tug-Of-War       Gold  \n",
       "4  Speed Skating Women's 500 metres  no medals  "
      ]
     },
     "execution_count": 15,
     "metadata": {},
     "output_type": "execute_result"
    }
   ],
   "source": [
    "df.head(5)"
   ]
  },
  {
   "cell_type": "markdown",
   "id": "ce5c4037-2521-4dc9-9ef0-7a6fba00bfa7",
   "metadata": {},
   "source": [
    "#  the  null value checking part is complete so we acn go to next part  the next crucial part is to check the duplicated values exist or not if the exist then we need to remove them"
   ]
  },
  {
   "cell_type": "markdown",
   "id": "d44b7df6-5f97-4366-8a12-08021b216de6",
   "metadata": {},
   "source": [
    "# 2. Check the duplicate value and remove them"
   ]
  },
  {
   "cell_type": "code",
   "execution_count": 16,
   "id": "bbc0e88d-a7ad-48c3-8ec3-86670573474a",
   "metadata": {},
   "outputs": [
    {
     "data": {
      "text/plain": [
       "np.int64(1385)"
      ]
     },
     "execution_count": 16,
     "metadata": {},
     "output_type": "execute_result"
    }
   ],
   "source": [
    "df.duplicated().sum()"
   ]
  },
  {
   "cell_type": "code",
   "execution_count": 17,
   "id": "7ec44e9b-e735-43c5-986b-d880172ca01a",
   "metadata": {},
   "outputs": [],
   "source": [
    "# as we see there is 1385 r duplicated rows value exist in the data set 271116-1385=269731 values are not duplicate so we need to remove 1385 duplicate data"
   ]
  },
  {
   "cell_type": "code",
   "execution_count": 18,
   "id": "81ca673e-5751-4302-9c1a-b4e9a2c22071",
   "metadata": {},
   "outputs": [],
   "source": [
    "df.drop_duplicates(inplace=True)"
   ]
  },
  {
   "cell_type": "code",
   "execution_count": 19,
   "id": "cbbb53ea-65b3-4f3b-b12c-aae8260db99f",
   "metadata": {},
   "outputs": [
    {
     "name": "stdout",
     "output_type": "stream",
     "text": [
      "<class 'pandas.core.frame.DataFrame'>\n",
      "Index: 269731 entries, 0 to 271115\n",
      "Data columns (total 15 columns):\n",
      " #   Column  Non-Null Count   Dtype   \n",
      "---  ------  --------------   -----   \n",
      " 0   ID      269731 non-null  int64   \n",
      " 1   Name    269731 non-null  object  \n",
      " 2   Sex     269731 non-null  object  \n",
      " 3   Age     269731 non-null  float64 \n",
      " 4   Height  269731 non-null  float64 \n",
      " 5   Weight  269731 non-null  float64 \n",
      " 6   Team    269731 non-null  object  \n",
      " 7   NOC     269731 non-null  object  \n",
      " 8   Games   269731 non-null  object  \n",
      " 9   Year    269731 non-null  int64   \n",
      " 10  Season  269731 non-null  object  \n",
      " 11  City    269731 non-null  object  \n",
      " 12  Sport   269731 non-null  object  \n",
      " 13  Event   269731 non-null  object  \n",
      " 14  Medal   269731 non-null  category\n",
      "dtypes: category(1), float64(3), int64(2), object(9)\n",
      "memory usage: 31.1+ MB\n"
     ]
    }
   ],
   "source": [
    "df.info()"
   ]
  },
  {
   "cell_type": "code",
   "execution_count": 20,
   "id": "44e7a374-dcf2-4181-be62-7413dbfd73d8",
   "metadata": {},
   "outputs": [],
   "source": [
    "# as we see ther only 269731 row exist we remove 1385 rows from the dat set"
   ]
  },
  {
   "cell_type": "code",
   "execution_count": 21,
   "id": "b5279ce0-b6f9-4bd4-8c93-fa56eec727eb",
   "metadata": {},
   "outputs": [
    {
     "data": {
      "text/html": [
       "<div>\n",
       "<style scoped>\n",
       "    .dataframe tbody tr th:only-of-type {\n",
       "        vertical-align: middle;\n",
       "    }\n",
       "\n",
       "    .dataframe tbody tr th {\n",
       "        vertical-align: top;\n",
       "    }\n",
       "\n",
       "    .dataframe thead th {\n",
       "        text-align: right;\n",
       "    }\n",
       "</style>\n",
       "<table border=\"1\" class=\"dataframe\">\n",
       "  <thead>\n",
       "    <tr style=\"text-align: right;\">\n",
       "      <th></th>\n",
       "      <th>ID</th>\n",
       "      <th>Age</th>\n",
       "      <th>Height</th>\n",
       "      <th>Weight</th>\n",
       "      <th>Year</th>\n",
       "    </tr>\n",
       "  </thead>\n",
       "  <tbody>\n",
       "    <tr>\n",
       "      <th>count</th>\n",
       "      <td>269731.000000</td>\n",
       "      <td>269731.000000</td>\n",
       "      <td>269731.000000</td>\n",
       "      <td>269731.000000</td>\n",
       "      <td>269731.000000</td>\n",
       "    </tr>\n",
       "    <tr>\n",
       "      <th>mean</th>\n",
       "      <td>68264.949591</td>\n",
       "      <td>25.458303</td>\n",
       "      <td>175.338957</td>\n",
       "      <td>94.570049</td>\n",
       "      <td>1978.623073</td>\n",
       "    </tr>\n",
       "    <tr>\n",
       "      <th>std</th>\n",
       "      <td>39026.253843</td>\n",
       "      <td>6.056530</td>\n",
       "      <td>9.301313</td>\n",
       "      <td>45.680963</td>\n",
       "      <td>29.752055</td>\n",
       "    </tr>\n",
       "    <tr>\n",
       "      <th>min</th>\n",
       "      <td>1.000000</td>\n",
       "      <td>10.000000</td>\n",
       "      <td>127.000000</td>\n",
       "      <td>25.000000</td>\n",
       "      <td>1896.000000</td>\n",
       "    </tr>\n",
       "    <tr>\n",
       "      <th>25%</th>\n",
       "      <td>34655.500000</td>\n",
       "      <td>22.000000</td>\n",
       "      <td>170.000000</td>\n",
       "      <td>63.000000</td>\n",
       "      <td>1960.000000</td>\n",
       "    </tr>\n",
       "    <tr>\n",
       "      <th>50%</th>\n",
       "      <td>68233.000000</td>\n",
       "      <td>25.000000</td>\n",
       "      <td>175.338970</td>\n",
       "      <td>75.000000</td>\n",
       "      <td>1988.000000</td>\n",
       "    </tr>\n",
       "    <tr>\n",
       "      <th>75%</th>\n",
       "      <td>102111.000000</td>\n",
       "      <td>28.000000</td>\n",
       "      <td>180.000000</td>\n",
       "      <td>100.000000</td>\n",
       "      <td>2002.000000</td>\n",
       "    </tr>\n",
       "    <tr>\n",
       "      <th>max</th>\n",
       "      <td>135571.000000</td>\n",
       "      <td>97.000000</td>\n",
       "      <td>226.000000</td>\n",
       "      <td>214.000000</td>\n",
       "      <td>2016.000000</td>\n",
       "    </tr>\n",
       "  </tbody>\n",
       "</table>\n",
       "</div>"
      ],
      "text/plain": [
       "                  ID            Age         Height         Weight  \\\n",
       "count  269731.000000  269731.000000  269731.000000  269731.000000   \n",
       "mean    68264.949591      25.458303     175.338957      94.570049   \n",
       "std     39026.253843       6.056530       9.301313      45.680963   \n",
       "min         1.000000      10.000000     127.000000      25.000000   \n",
       "25%     34655.500000      22.000000     170.000000      63.000000   \n",
       "50%     68233.000000      25.000000     175.338970      75.000000   \n",
       "75%    102111.000000      28.000000     180.000000     100.000000   \n",
       "max    135571.000000      97.000000     226.000000     214.000000   \n",
       "\n",
       "                Year  \n",
       "count  269731.000000  \n",
       "mean     1978.623073  \n",
       "std        29.752055  \n",
       "min      1896.000000  \n",
       "25%      1960.000000  \n",
       "50%      1988.000000  \n",
       "75%      2002.000000  \n",
       "max      2016.000000  "
      ]
     },
     "execution_count": 21,
     "metadata": {},
     "output_type": "execute_result"
    }
   ],
   "source": [
    "df.describe()"
   ]
  },
  {
   "cell_type": "code",
   "execution_count": 22,
   "id": "0fa35402-7b7b-4d7b-9537-14940301ccbf",
   "metadata": {},
   "outputs": [
    {
     "name": "stdout",
     "output_type": "stream",
     "text": [
      "Sport\n",
      "Athletics     38624\n",
      "Gymnastics    26707\n",
      "Swimming      23195\n",
      "Shooting      11448\n",
      "Cycling       10827\n",
      "Name: count, dtype: int64\n"
     ]
    }
   ],
   "source": [
    "print(df['Sport'].value_counts().head())"
   ]
  },
  {
   "cell_type": "code",
   "execution_count": 23,
   "id": "15f7cbc2-d0df-4531-9838-2d6f76882252",
   "metadata": {},
   "outputs": [
    {
     "data": {
      "text/plain": [
       "110801"
      ]
     },
     "execution_count": 23,
     "metadata": {},
     "output_type": "execute_result"
    }
   ],
   "source": [
    "38624+26707+23195+11448+10827"
   ]
  },
  {
   "cell_type": "code",
   "execution_count": 24,
   "id": "21097b14-1b3c-4ade-92c4-bb70f62c3b2c",
   "metadata": {},
   "outputs": [
    {
     "name": "stdout",
     "output_type": "stream",
     "text": [
      "NOC\n",
      "USA    18604\n",
      "FRA    12551\n",
      "GBR    12115\n",
      "ITA    10668\n",
      "GER     9734\n",
      "Name: count, dtype: int64\n"
     ]
    }
   ],
   "source": [
    "print(df['NOC'].value_counts().head())"
   ]
  },
  {
   "cell_type": "code",
   "execution_count": 25,
   "id": "97d7370c-789a-4a6b-9ab6-dfe2935d2eb1",
   "metadata": {},
   "outputs": [
    {
     "data": {
      "text/plain": [
       "63672"
      ]
     },
     "execution_count": 25,
     "metadata": {},
     "output_type": "execute_result"
    }
   ],
   "source": [
    "18604+12551+12115+10668+9734"
   ]
  },
  {
   "cell_type": "markdown",
   "id": "32272b87-41bc-4c97-9c14-20413dbd6563",
   "metadata": {},
   "source": [
    "#the Sport and NOC dose not seem to be a problem but the height ,weight and age might bu outlier  \n",
    "#look  at age the minimum age is 10 that possible but may not be realiestic for Olympic\n",
    "#Max = 97 years (definitely suspicious – maybe a data error or some non-competing participant)\n",
    "# Height\n",
    "\n",
    "#Min = 127 cm, Max = 226 cm (plausible, but 226 cm is extremely tall → rare).\n",
    "\n",
    "# Weight\n",
    "\n",
    "#Min = 25 kg (too low for adult athletes, might be missing/incorrect).\n",
    "\n",
    "#Max = 214 kg (possible for weightlifting, but worth checking outliers).\n"
   ]
  },
  {
   "cell_type": "code",
   "execution_count": 26,
   "id": "90533345-d0f0-49d9-bf7b-52e5c0ff42c5",
   "metadata": {},
   "outputs": [
    {
     "data": {
      "text/plain": [
       "Index(['ID', 'Name', 'Sex', 'Age', 'Height', 'Weight', 'Team', 'NOC', 'Games',\n",
       "       'Year', 'Season', 'City', 'Sport', 'Event', 'Medal'],\n",
       "      dtype='object')"
      ]
     },
     "execution_count": 26,
     "metadata": {},
     "output_type": "execute_result"
    }
   ],
   "source": [
    "df.columns"
   ]
  },
  {
   "cell_type": "code",
   "execution_count": 27,
   "id": "367e4648-0b17-4c2a-8d6c-a80007a9d939",
   "metadata": {},
   "outputs": [
    {
     "data": {
      "text/html": [
       "<div>\n",
       "<style scoped>\n",
       "    .dataframe tbody tr th:only-of-type {\n",
       "        vertical-align: middle;\n",
       "    }\n",
       "\n",
       "    .dataframe tbody tr th {\n",
       "        vertical-align: top;\n",
       "    }\n",
       "\n",
       "    .dataframe thead th {\n",
       "        text-align: right;\n",
       "    }\n",
       "</style>\n",
       "<table border=\"1\" class=\"dataframe\">\n",
       "  <thead>\n",
       "    <tr style=\"text-align: right;\">\n",
       "      <th></th>\n",
       "      <th>Name</th>\n",
       "      <th>Age</th>\n",
       "      <th>Year</th>\n",
       "      <th>Sport</th>\n",
       "    </tr>\n",
       "  </thead>\n",
       "  <tbody>\n",
       "    <tr>\n",
       "      <th>43468</th>\n",
       "      <td>Magdalena Cecilia Colledge</td>\n",
       "      <td>11.0</td>\n",
       "      <td>1932</td>\n",
       "      <td>Figure Skating</td>\n",
       "    </tr>\n",
       "    <tr>\n",
       "      <th>73461</th>\n",
       "      <td>Carlos Bienvenido Front Barrera</td>\n",
       "      <td>11.0</td>\n",
       "      <td>1992</td>\n",
       "      <td>Rowing</td>\n",
       "    </tr>\n",
       "    <tr>\n",
       "      <th>79024</th>\n",
       "      <td>Luigina Giavotti</td>\n",
       "      <td>11.0</td>\n",
       "      <td>1928</td>\n",
       "      <td>Gymnastics</td>\n",
       "    </tr>\n",
       "    <tr>\n",
       "      <th>94058</th>\n",
       "      <td>Sonja Henie (-Topping, -Gardiner, -Onstad)</td>\n",
       "      <td>11.0</td>\n",
       "      <td>1924</td>\n",
       "      <td>Figure Skating</td>\n",
       "    </tr>\n",
       "    <tr>\n",
       "      <th>101378</th>\n",
       "      <td>Beatrice Hutiu</td>\n",
       "      <td>11.0</td>\n",
       "      <td>1968</td>\n",
       "      <td>Figure Skating</td>\n",
       "    </tr>\n",
       "    <tr>\n",
       "      <th>102916</th>\n",
       "      <td>Etsuko Inada</td>\n",
       "      <td>11.0</td>\n",
       "      <td>1936</td>\n",
       "      <td>Figure Skating</td>\n",
       "    </tr>\n",
       "    <tr>\n",
       "      <th>140650</th>\n",
       "      <td>Liu Luyang</td>\n",
       "      <td>11.0</td>\n",
       "      <td>1988</td>\n",
       "      <td>Figure Skating</td>\n",
       "    </tr>\n",
       "    <tr>\n",
       "      <th>142882</th>\n",
       "      <td>Dimitrios Loundras</td>\n",
       "      <td>10.0</td>\n",
       "      <td>1896</td>\n",
       "      <td>Gymnastics</td>\n",
       "    </tr>\n",
       "    <tr>\n",
       "      <th>152798</th>\n",
       "      <td>Marcelle Matthews</td>\n",
       "      <td>11.0</td>\n",
       "      <td>1960</td>\n",
       "      <td>Figure Skating</td>\n",
       "    </tr>\n",
       "    <tr>\n",
       "      <th>237141</th>\n",
       "      <td>Megan Olwen Devenish Taylor (-Mandeville-Ellis)</td>\n",
       "      <td>11.0</td>\n",
       "      <td>1932</td>\n",
       "      <td>Figure Skating</td>\n",
       "    </tr>\n",
       "    <tr>\n",
       "      <th>252230</th>\n",
       "      <td>Liana Vicens</td>\n",
       "      <td>11.0</td>\n",
       "      <td>1968</td>\n",
       "      <td>Swimming</td>\n",
       "    </tr>\n",
       "    <tr>\n",
       "      <th>252231</th>\n",
       "      <td>Liana Vicens</td>\n",
       "      <td>11.0</td>\n",
       "      <td>1968</td>\n",
       "      <td>Swimming</td>\n",
       "    </tr>\n",
       "    <tr>\n",
       "      <th>252232</th>\n",
       "      <td>Liana Vicens</td>\n",
       "      <td>11.0</td>\n",
       "      <td>1968</td>\n",
       "      <td>Swimming</td>\n",
       "    </tr>\n",
       "    <tr>\n",
       "      <th>252233</th>\n",
       "      <td>Liana Vicens</td>\n",
       "      <td>11.0</td>\n",
       "      <td>1968</td>\n",
       "      <td>Swimming</td>\n",
       "    </tr>\n",
       "  </tbody>\n",
       "</table>\n",
       "</div>"
      ],
      "text/plain": [
       "                                                   Name   Age  Year  \\\n",
       "43468                        Magdalena Cecilia Colledge  11.0  1932   \n",
       "73461                   Carlos Bienvenido Front Barrera  11.0  1992   \n",
       "79024                                  Luigina Giavotti  11.0  1928   \n",
       "94058        Sonja Henie (-Topping, -Gardiner, -Onstad)  11.0  1924   \n",
       "101378                                   Beatrice Hutiu  11.0  1968   \n",
       "102916                                     Etsuko Inada  11.0  1936   \n",
       "140650                                       Liu Luyang  11.0  1988   \n",
       "142882                               Dimitrios Loundras  10.0  1896   \n",
       "152798                                Marcelle Matthews  11.0  1960   \n",
       "237141  Megan Olwen Devenish Taylor (-Mandeville-Ellis)  11.0  1932   \n",
       "252230                                     Liana Vicens  11.0  1968   \n",
       "252231                                     Liana Vicens  11.0  1968   \n",
       "252232                                     Liana Vicens  11.0  1968   \n",
       "252233                                     Liana Vicens  11.0  1968   \n",
       "\n",
       "                 Sport  \n",
       "43468   Figure Skating  \n",
       "73461           Rowing  \n",
       "79024       Gymnastics  \n",
       "94058   Figure Skating  \n",
       "101378  Figure Skating  \n",
       "102916  Figure Skating  \n",
       "140650  Figure Skating  \n",
       "142882      Gymnastics  \n",
       "152798  Figure Skating  \n",
       "237141  Figure Skating  \n",
       "252230        Swimming  \n",
       "252231        Swimming  \n",
       "252232        Swimming  \n",
       "252233        Swimming  "
      ]
     },
     "execution_count": 27,
     "metadata": {},
     "output_type": "execute_result"
    }
   ],
   "source": [
    "df[df['Age']<12][['Name','Age', 'Year', 'Sport']]"
   ]
  },
  {
   "cell_type": "code",
   "execution_count": 28,
   "id": "259b6836-b0b0-49bc-9718-02ddd7ac0f3f",
   "metadata": {},
   "outputs": [
    {
     "data": {
      "text/plain": [
       "53"
      ]
     },
     "execution_count": 28,
     "metadata": {},
     "output_type": "execute_result"
    }
   ],
   "source": [
    "269731-269678 "
   ]
  },
  {
   "cell_type": "code",
   "execution_count": 29,
   "id": "971fe735-d9f0-4e6d-8666-033f727c2c43",
   "metadata": {},
   "outputs": [
    {
     "data": {
      "text/html": [
       "<div>\n",
       "<style scoped>\n",
       "    .dataframe tbody tr th:only-of-type {\n",
       "        vertical-align: middle;\n",
       "    }\n",
       "\n",
       "    .dataframe tbody tr th {\n",
       "        vertical-align: top;\n",
       "    }\n",
       "\n",
       "    .dataframe thead th {\n",
       "        text-align: right;\n",
       "    }\n",
       "</style>\n",
       "<table border=\"1\" class=\"dataframe\">\n",
       "  <thead>\n",
       "    <tr style=\"text-align: right;\">\n",
       "      <th></th>\n",
       "      <th>Name</th>\n",
       "      <th>Age</th>\n",
       "      <th>Year</th>\n",
       "      <th>Sport</th>\n",
       "    </tr>\n",
       "  </thead>\n",
       "  <tbody>\n",
       "    <tr>\n",
       "      <th>98118</th>\n",
       "      <td>Winslow Homer</td>\n",
       "      <td>96.0</td>\n",
       "      <td>1932</td>\n",
       "      <td>Art Competitions</td>\n",
       "    </tr>\n",
       "    <tr>\n",
       "      <th>257054</th>\n",
       "      <td>John Quincy Adams Ward</td>\n",
       "      <td>97.0</td>\n",
       "      <td>1928</td>\n",
       "      <td>Art Competitions</td>\n",
       "    </tr>\n",
       "  </tbody>\n",
       "</table>\n",
       "</div>"
      ],
      "text/plain": [
       "                          Name   Age  Year             Sport\n",
       "98118            Winslow Homer  96.0  1932  Art Competitions\n",
       "257054  John Quincy Adams Ward  97.0  1928  Art Competitions"
      ]
     },
     "execution_count": 29,
     "metadata": {},
     "output_type": "execute_result"
    }
   ],
   "source": [
    "df[df['Age'] > 90][['Name','Age','Year','Sport']]"
   ]
  },
  {
   "cell_type": "markdown",
   "id": "49a558c3-591f-435a-8c0c-c30af9cb554f",
   "metadata": {},
   "source": [
    "# as we see the wilsow Homer who participate at olymic in 1932  is not 96 years old but 72 years old s so we can see that These art competition rows are unreliable if you’re analyzing athletes’ ages, heights, or weights. for the  worst cae we need to roemove the  art competition from our analysis but there is onlu two rwos so we just  set ther age,year,sports as NaN"
   ]
  },
  {
   "cell_type": "code",
   "execution_count": 30,
   "id": "4d15e014-5350-4837-9744-1d54efe8ea7c",
   "metadata": {},
   "outputs": [],
   "source": [
    "# Names with wrong data\n",
    "wrong_names = [\"Winslow Homer\", \"John Quincy Adams Ward\"]\n",
    "\n",
    "# Set Age, Year, Sport to NaN\n",
    "df.loc[df['Name'].isin(wrong_names), ['Age','Year','Sport']] = None\n",
    "\n",
    "# Optional: mark them as problematic\n",
    "df['DataIssue'] = df['Name'].isin(wrong_names)\n"
   ]
  },
  {
   "cell_type": "markdown",
   "id": "b0ccab50-e786-487b-848c-f9e566ba380c",
   "metadata": {},
   "source": [
    "# Outlier Analysis"
   ]
  },
  {
   "cell_type": "code",
   "execution_count": 31,
   "id": "c1fb07d8-12ed-41dd-b050-ec52c22ca011",
   "metadata": {},
   "outputs": [
    {
     "data": {
      "text/plain": [
       "Index(['ID', 'Name', 'Sex', 'Age', 'Height', 'Weight', 'Team', 'NOC', 'Games',\n",
       "       'Year', 'Season', 'City', 'Sport', 'Event', 'Medal', 'DataIssue'],\n",
       "      dtype='object')"
      ]
     },
     "execution_count": 31,
     "metadata": {},
     "output_type": "execute_result"
    }
   ],
   "source": [
    "df.columns"
   ]
  },
  {
   "cell_type": "code",
   "execution_count": 32,
   "id": "27d644f8-b892-4d47-82aa-c2a4e78171f8",
   "metadata": {},
   "outputs": [],
   "source": [
    "numeric_col=['Age', 'Height', 'Weight']\n"
   ]
  },
  {
   "cell_type": "code",
   "execution_count": 33,
   "id": "8a0bcf84-2a9c-4aff-83b9-2929c6b92897",
   "metadata": {},
   "outputs": [
    {
     "data": {
      "text/html": [
       "<div>\n",
       "<style scoped>\n",
       "    .dataframe tbody tr th:only-of-type {\n",
       "        vertical-align: middle;\n",
       "    }\n",
       "\n",
       "    .dataframe tbody tr th {\n",
       "        vertical-align: top;\n",
       "    }\n",
       "\n",
       "    .dataframe thead th {\n",
       "        text-align: right;\n",
       "    }\n",
       "</style>\n",
       "<table border=\"1\" class=\"dataframe\">\n",
       "  <thead>\n",
       "    <tr style=\"text-align: right;\">\n",
       "      <th></th>\n",
       "      <th>Age</th>\n",
       "      <th>Height</th>\n",
       "      <th>Weight</th>\n",
       "    </tr>\n",
       "  </thead>\n",
       "  <tbody>\n",
       "    <tr>\n",
       "      <th>count</th>\n",
       "      <td>269729.000000</td>\n",
       "      <td>269731.000000</td>\n",
       "      <td>269731.000000</td>\n",
       "    </tr>\n",
       "    <tr>\n",
       "      <th>mean</th>\n",
       "      <td>25.457776</td>\n",
       "      <td>175.338957</td>\n",
       "      <td>94.570049</td>\n",
       "    </tr>\n",
       "    <tr>\n",
       "      <th>std</th>\n",
       "      <td>6.053462</td>\n",
       "      <td>9.301313</td>\n",
       "      <td>45.680963</td>\n",
       "    </tr>\n",
       "    <tr>\n",
       "      <th>min</th>\n",
       "      <td>10.000000</td>\n",
       "      <td>127.000000</td>\n",
       "      <td>25.000000</td>\n",
       "    </tr>\n",
       "    <tr>\n",
       "      <th>25%</th>\n",
       "      <td>22.000000</td>\n",
       "      <td>170.000000</td>\n",
       "      <td>63.000000</td>\n",
       "    </tr>\n",
       "    <tr>\n",
       "      <th>50%</th>\n",
       "      <td>25.000000</td>\n",
       "      <td>175.338970</td>\n",
       "      <td>75.000000</td>\n",
       "    </tr>\n",
       "    <tr>\n",
       "      <th>75%</th>\n",
       "      <td>28.000000</td>\n",
       "      <td>180.000000</td>\n",
       "      <td>100.000000</td>\n",
       "    </tr>\n",
       "    <tr>\n",
       "      <th>max</th>\n",
       "      <td>88.000000</td>\n",
       "      <td>226.000000</td>\n",
       "      <td>214.000000</td>\n",
       "    </tr>\n",
       "  </tbody>\n",
       "</table>\n",
       "</div>"
      ],
      "text/plain": [
       "                 Age         Height         Weight\n",
       "count  269729.000000  269731.000000  269731.000000\n",
       "mean       25.457776     175.338957      94.570049\n",
       "std         6.053462       9.301313      45.680963\n",
       "min        10.000000     127.000000      25.000000\n",
       "25%        22.000000     170.000000      63.000000\n",
       "50%        25.000000     175.338970      75.000000\n",
       "75%        28.000000     180.000000     100.000000\n",
       "max        88.000000     226.000000     214.000000"
      ]
     },
     "execution_count": 33,
     "metadata": {},
     "output_type": "execute_result"
    }
   ],
   "source": [
    "df[numeric_col].describe()"
   ]
  },
  {
   "cell_type": "code",
   "execution_count": 34,
   "id": "d448b4ec-04ca-4728-b681-cd96c1dd9568",
   "metadata": {},
   "outputs": [],
   "source": [
    "import seaborn as sns\n",
    "import matplotlib.pyplot as plt"
   ]
  },
  {
   "cell_type": "code",
   "execution_count": 35,
   "id": "436a4d23-8df9-4a35-964e-22ef48a3bbe9",
   "metadata": {},
   "outputs": [
    {
     "data": {
      "image/png": "[encoded data removed]",
      "text/plain": [
       "<Figure size 1000x400 with 1 Axes>"
      ]
     },
     "metadata": {},
     "output_type": "display_data"
    },
    {
     "data": {
      "image/png": "[encoded data removed]",
      "text/plain": [
       "<Figure size 1000x400 with 1 Axes>"
      ]
     },
     "metadata": {},
     "output_type": "display_data"
    },
    {
     "data": {
      "image/png": "[encoded data removed]",
      "text/plain": [
       "<Figure size 1000x400 with 1 Axes>"
      ]
     },
     "metadata": {},
     "output_type": "display_data"
    }
   ],
   "source": [
    "for col in numeric_col:\n",
    "    plt.figure(figsize=(10,4))\n",
    "    sns.boxplot(data=df,x=col)\n",
    "    plt.title(f\"{col}\")\n",
    "    plt.show()"
   ]
  },
  {
   "cell_type": "markdown",
   "id": "65eede91-a078-4910-9715-df6a42042312",
   "metadata": {},
   "source": [
    "# as we see the Age and Height has more outlier then  Weight so  we do outlier analying in those 3  we use IQR method to detect the outliers and after Detecting we romve them"
   ]
  },
  {
   "cell_type": "code",
   "execution_count": 36,
   "id": "e22e1374-ec3b-4fca-919d-a468f0ac0107",
   "metadata": {},
   "outputs": [
    {
     "name": "stdout",
     "output_type": "stream",
     "text": [
      "IQR:-\n",
      "Age        6.0\n",
      "Height    10.0\n",
      "Weight    37.0\n",
      "dtype: float64\n",
      "lower_bound:-\n",
      "Age        13.0\n",
      "Height    155.0\n",
      "Weight      7.5\n",
      "dtype: float64\n",
      "upper_bound:-\n",
      "Age        37.0\n",
      "Height    195.0\n",
      "Weight    155.5\n",
      "dtype: float64\n"
     ]
    }
   ],
   "source": [
    "# IQR\n",
    "q1=df[numeric_col].quantile(0.25)\n",
    "q3=df[numeric_col].quantile(0.75)\n",
    "iqr=q3-q1\n",
    "lower_bound=q1-1.5*iqr\n",
    "upper_bound=q3+1.5*iqr\n",
    "print(\"IQR:-\")\n",
    "print(iqr)\n",
    "print(\"lower_bound:-\")\n",
    "print(lower_bound)\n",
    "print(\"upper_bound:-\")\n",
    "print(upper_bound)"
   ]
  },
  {
   "cell_type": "code",
   "execution_count": 37,
   "id": "db8b249f-6732-4dc2-8186-27e5f7abd1a3",
   "metadata": {},
   "outputs": [],
   "source": [
    "outliers=df[((df[numeric_col]<lower_bound)|(df[numeric_col]>upper_bound)).any(axis=1)]"
   ]
  },
  {
   "cell_type": "markdown",
   "id": "3c226c65-1cee-4ae8-8d84-23f119909152",
   "metadata": {},
   "source": [
    "# inseted of removimg them we highlight them  the reason is we are doing Data Analysing project not Machine Learning project so Highlight them is good for story telling and EDA"
   ]
  },
  {
   "cell_type": "code",
   "execution_count": 38,
   "id": "fe7d7862-a820-441f-a825-554c428fd7e8",
   "metadata": {},
   "outputs": [
    {
     "data": {
      "text/plain": [
       "Index(['ID', 'Name', 'Sex', 'Age', 'Height', 'Weight', 'Team', 'NOC', 'Games',\n",
       "       'Year', 'Season', 'City', 'Sport', 'Event', 'Medal', 'DataIssue'],\n",
       "      dtype='object')"
      ]
     },
     "execution_count": 38,
     "metadata": {},
     "output_type": "execute_result"
    }
   ],
   "source": [
    "outliers.columns"
   ]
  },
  {
   "cell_type": "code",
   "execution_count": 39,
   "id": "f3d1687d-98b6-4d17-adb7-5ed896e2f4a8",
   "metadata": {},
   "outputs": [
    {
     "data": {
      "text/plain": [
       "Sport\n",
       "Gymnastics    11225\n",
       "Athletics      7225\n",
       "Shooting       5981\n",
       "Swimming       5284\n",
       "Fencing        4549\n",
       "Name: count, dtype: int64"
      ]
     },
     "execution_count": 39,
     "metadata": {},
     "output_type": "execute_result"
    }
   ],
   "source": [
    "outliers['Sport'].value_counts().head()"
   ]
  },
  {
   "cell_type": "markdown",
   "id": "6f994564-a6fb-4ba7-8bff-3d1e00dd6d27",
   "metadata": {},
   "source": [
    "# lets Highlight them in VisualiZation"
   ]
  },
  {
   "cell_type": "code",
   "execution_count": 40,
   "id": "821b8fc9-a27f-489f-914c-a846668b8d2c",
   "metadata": {},
   "outputs": [
    {
     "data": {
      "image/png": "[encoded data removed]",
      "text/plain": [
       "<Figure size 1000x600 with 1 Axes>"
      ]
     },
     "metadata": {},
     "output_type": "display_data"
    }
   ],
   "source": [
    "plt.figure(figsize=(10,6))\n",
    "sns.scatterplot(data=df, x='Year', y='Age', alpha=0.3)\n",
    "sns.scatterplot(data=outliers, x='Year', y='Age', color='red', label='Outliers')\n",
    "plt.title(\"Youngest & Oldest Athletes Highlighted\")\n",
    "plt.legend()\n",
    "plt.show()\n"
   ]
  },
  {
   "cell_type": "markdown",
   "id": "185002fa-6691-40b3-9c6d-d37a8827e122",
   "metadata": {},
   "source": [
    "as we see the youngest person who participate in  Olympic is 10 years and the oldest person who participate in Olympic is close to 90 years "
   ]
  },
  {
   "cell_type": "code",
   "execution_count": 41,
   "id": "9c4c3cf6-dc9d-4275-8f03-2ee0efe88c38",
   "metadata": {},
   "outputs": [
    {
     "data": {
      "image/png": "[encoded data removed]",
      "text/plain": [
       "<Figure size 1000x600 with 1 Axes>"
      ]
     },
     "metadata": {},
     "output_type": "display_data"
    }
   ],
   "source": [
    "# highlighting  Height vs Weight\n",
    "plt.figure(figsize=(10,6))\n",
    "sns.scatterplot(data=df, x='Height', y='Weight', alpha=0.3)\n",
    "sns.scatterplot(data=outliers, x='Height', y='Weight', color='orange', label='Outliers')\n",
    "plt.title(\"Tallest & Heaviest Athletes Highlighted\")\n",
    "plt.legend()\n",
    "plt.show()\n"
   ]
  },
  {
   "cell_type": "code",
   "execution_count": 42,
   "id": "10ec1ce4-7d04-4df4-8ddf-33c491633fa2",
   "metadata": {},
   "outputs": [
    {
     "name": "stdout",
     "output_type": "stream",
     "text": [
      "Youngest Olympians:\n",
      "                                              Name   Age    Year  \\\n",
      "142882                          Dimitrios Loundras  10.0  1896.0   \n",
      "43468                   Magdalena Cecilia Colledge  11.0  1932.0   \n",
      "73461              Carlos Bienvenido Front Barrera  11.0  1992.0   \n",
      "79024                             Luigina Giavotti  11.0  1928.0   \n",
      "94058   Sonja Henie (-Topping, -Gardiner, -Onstad)  11.0  1924.0   \n",
      "\n",
      "                 Sport  \n",
      "142882      Gymnastics  \n",
      "43468   Figure Skating  \n",
      "73461           Rowing  \n",
      "79024       Gymnastics  \n",
      "94058   Figure Skating  \n",
      "\n",
      "Oldest Olympians:\n",
      "                              Name   Age    Year             Sport\n",
      "60861   Thomas Cowperthwait Eakins  88.0  1932.0  Art Competitions\n",
      "9371         George Denholm Armour  84.0  1948.0  Art Competitions\n",
      "154855        Robert Tait McKenzie  81.0  1948.0  Art Competitions\n",
      "236912                Louis Tauzin  81.0  1924.0  Art Competitions\n",
      "138812              Max Liebermann  80.0  1928.0  Art Competitions\n",
      "\n",
      "Tallest Athletes:\n",
      "                         Name  Height    Year       Sport\n",
      "265040               Yao Ming   226.0  2000.0  Basketball\n",
      "265041               Yao Ming   226.0  2004.0  Basketball\n",
      "265042               Yao Ming   226.0  2008.0  Basketball\n",
      "32376    Tommy Loren Burleson   223.0  1972.0  Basketball\n",
      "207373  Arvydas Romas Sabonis   223.0  1988.0  Basketball\n",
      "\n",
      "Heaviest Athletes:\n",
      "                                 Name  Weight    Year      Sport\n",
      "23155               Ricardo Blas, Jr.   214.0  2008.0       Judo\n",
      "23156               Ricardo Blas, Jr.   214.0  2012.0       Judo\n",
      "205467              Aytami Ruano Vega   198.0  2004.0       Judo\n",
      "75031                   Marek Galiski   190.0  1980.0  Wrestling\n",
      "237039  Christopher J. \"Chris\" Taylor   182.0  1972.0  Wrestling\n"
     ]
    }
   ],
   "source": [
    "print(\"Youngest Olympians:\")\n",
    "print(outliers.nsmallest(5,'Age')[['Name','Age','Year','Sport']])\n",
    "\n",
    "print(\"\\nOldest Olympians:\")\n",
    "print(outliers.nlargest(5,'Age')[['Name','Age','Year','Sport']])\n",
    "\n",
    "print(\"\\nTallest Athletes:\")\n",
    "print(outliers.nlargest(5,'Height')[['Name','Height','Year','Sport']])\n",
    "\n",
    "print(\"\\nHeaviest Athletes:\")\n",
    "print(outliers.nlargest(5,'Weight')[['Name','Weight','Year','Sport']])\n",
    "\n"
   ]
  },
  {
   "cell_type": "markdown",
   "id": "cd221c86-554e-4013-b382-0c0b749836e0",
   "metadata": {},
   "source": [
    "Most athletes are 20–30 years old, but Dimitrios Loundras (10 yrs) in 1896 and Oscar Swahn (72 yrs) in 1920 stand out as age outliers.\n",
    "\n",
    "Basketball produced the tallest athletes (220 cm), while gymnastics produced some of the shortest (140 cm).\n",
    "\n",
    "The heaviest Olympians were in weightlifting, crossing 200 kg."
   ]
  },
  {
   "cell_type": "markdown",
   "id": "83ffc252-09ef-4527-bab1-bc1ae410139d",
   "metadata": {},
   "source": [
    "# Export your cleaned dataset from Python:"
   ]
  },
  {
   "cell_type": "code",
   "execution_count": 43,
   "id": "3b5ea74d-df28-4672-bd95-233b248de7e8",
   "metadata": {},
   "outputs": [],
   "source": [
    "df.to_csv(\"olympic_cleaned.csv\", index=False)\n"
   ]
  },
  {
   "cell_type": "code",
   "execution_count": null,
   "id": "c27285b3-29c0-4673-88b7-96050e07d5a4",
   "metadata": {},
   "outputs": [],
   "source": []
  }
 ],
 "metadata": {
  "kernelspec": {
   "display_name": "Python 3 (ipykernel)",
   "language": "python",
   "name": "python3"
  },
  "language_info": {
   "codemirror_mode": {
    "name": "ipython",
    "version": 3
   },
   "file_extension": ".py",
   "mimetype": "text/x-python",
   "name": "python",
   "nbconvert_exporter": "python",
   "pygments_lexer": "ipython3",
   "version": "3.13.7"
  }
 },
 "nbformat": 4,
 "nbformat_minor": 5
}
